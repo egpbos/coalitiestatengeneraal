{
 "cells": [
  {
   "cell_type": "code",
   "execution_count": 1,
   "id": "8439f2d0",
   "metadata": {},
   "outputs": [],
   "source": [
    "import ipywidgets as widgets"
   ]
  },
  {
   "cell_type": "code",
   "execution_count": null,
   "id": "0d8be802",
   "metadata": {},
   "outputs": [],
   "source": [
    "# BROKEN\n",
    "\n",
    "# output = widgets.Output()\n",
    "# checkboxes = [widgets.Checkbox(description=f'box {i}') for i in range(5)]\n",
    "# with output:\n",
    "#     print(\"hi\")\n",
    "# display(widgets.HBox([widgets.VBox(checkboxes), output]))"
   ]
  },
  {
   "cell_type": "code",
   "execution_count": null,
   "id": "5a86ee85",
   "metadata": {},
   "outputs": [],
   "source": [
    "# WORKS\n",
    "\n",
    "# output = widgets.Output()\n",
    "# with output:\n",
    "#     print(\"hi\")\n",
    "# display(widgets.HBox([widgets.Checkbox(description=f'box'), output]))"
   ]
  },
  {
   "cell_type": "code",
   "execution_count": null,
   "id": "021c2bee",
   "metadata": {},
   "outputs": [
    {
     "data": {
      "application/vnd.jupyter.widget-view+json": {
       "model_id": "b9c8fbe3672e4d68999da713ce84a6f8",
       "version_major": 2,
       "version_minor": 0
      },
      "text/plain": [
       "Box(children=(Box(children=(Checkbox(value=False, description='box 0'), Checkbox(value=False, description='box…"
      ]
     },
     "metadata": {},
     "output_type": "display_data"
    }
   ],
   "source": [
    "# BROKEN\n",
    "\n",
    "# output = widgets.Output()\n",
    "# checkboxes = [widgets.Checkbox(description=f'box {i}') for i in range(5)]\n",
    "# with output:\n",
    "#     print(\"hi\")\n",
    "# display(widgets.Box([widgets.VBox(checkboxes), output]))"
   ]
  },
  {
   "cell_type": "code",
   "execution_count": null,
   "id": "03d2d8dd",
   "metadata": {},
   "outputs": [
    {
     "data": {
      "application/vnd.jupyter.widget-view+json": {
       "model_id": "153dcbbcb662485c8cd85d8d79a6c8a2",
       "version_major": 2,
       "version_minor": 0
      },
      "text/plain": [
       "VBox(children=(Checkbox(value=False, description='box 0'), Checkbox(value=False, description='box 1'), Checkbo…"
      ]
     },
     "metadata": {},
     "output_type": "display_data"
    }
   ],
   "source": [
    "# WORKS, BUT USELESS\n",
    "\n",
    "# output = widgets.Output()\n",
    "# checkboxes = [widgets.Checkbox(description=f'box {i}') for i in range(5)]\n",
    "# checkboxes.append(output)\n",
    "# with output:\n",
    "#     print(\"hi\")\n",
    "# display(widgets.VBox(checkboxes))"
   ]
  },
  {
   "cell_type": "code",
   "execution_count": 52,
   "id": "62657b02",
   "metadata": {},
   "outputs": [],
   "source": [
    "# STILL BROKEN (follows hint from https://stackoverflow.com/questions/32035406/how-to-limit-pre-tag-width-inside-flex-container)\n",
    "\n",
    "# output = widgets.Output(layout=widgets.Layout(min_width = \"0px\"))\n",
    "# checkboxes = [widgets.Checkbox(description=f'box {i}') for i in range(5)]\n",
    "# with output:\n",
    "#     print(\"hi\")\n",
    "# display(widgets.HBox([widgets.VBox(checkboxes), output]))"
   ]
  },
  {
   "cell_type": "code",
   "execution_count": null,
   "id": "24682938",
   "metadata": {},
   "outputs": [
    {
     "data": {
      "application/vnd.jupyter.widget-view+json": {
       "model_id": "5061dbb6768946dab02eef86c7101af8",
       "version_major": 2,
       "version_minor": 0
      },
      "text/plain": [
       "HBox(children=(VBox(children=(Checkbox(value=False, description='box 0'), Checkbox(value=False, description='b…"
      ]
     },
     "metadata": {},
     "output_type": "display_data"
    }
   ],
   "source": [
    "# BROKEN TOO\n",
    "\n",
    "# from IPython.display import YouTubeVideo\n",
    "# output = widgets.Output()\n",
    "\n",
    "# checkboxes = [widgets.Checkbox(description=f'box {i}') for i in range(5)]\n",
    "# with output:\n",
    "#     display(YouTubeVideo('eWzY2nGfkXk'))\n",
    "\n",
    "# display(widgets.HBox([widgets.VBox(checkboxes), output]))"
   ]
  },
  {
   "cell_type": "code",
   "execution_count": null,
   "id": "1b7b65cf",
   "metadata": {},
   "outputs": [],
   "source": [
    "# advice from https://github.com/jgunstone in https://github.com/voila-dashboards/voila/issues/1529: manually set width of the output widget\n",
    "\n",
    "output_layout = {\n",
    "    # 'width': '100%',\n",
    "    'width': '300px',\n",
    "}\n",
    "\n",
    "output = widgets.Output(layout=output_layout)\n",
    "checkboxes = [widgets.Checkbox(description=f'box {i}') for i in range(5)]\n",
    "with output:\n",
    "    print(\"hi\")\n",
    "display(widgets.HBox([widgets.VBox(checkboxes), output]))\n",
    "display(widgets.HBox([output, widgets.VBox(checkboxes)]))\n",
    "\n",
    "# WORKS! Finally!"
   ]
  }
 ],
 "metadata": {
  "kernelspec": {
   "display_name": "project",
   "language": "python",
   "name": "project"
  },
  "language_info": {
   "codemirror_mode": {
    "name": "ipython",
    "version": 3
   },
   "file_extension": ".py",
   "mimetype": "text/x-python",
   "name": "python",
   "nbconvert_exporter": "python",
   "pygments_lexer": "ipython3",
   "version": "3.13.5"
  }
 },
 "nbformat": 4,
 "nbformat_minor": 5
}
