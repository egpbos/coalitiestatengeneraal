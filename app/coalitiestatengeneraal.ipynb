{
 "cells": [
  {
   "cell_type": "code",
   "execution_count": 1,
   "id": "bbee3e97-0f57-4fd9-9349-6177cceeb67b",
   "metadata": {},
   "outputs": [],
   "source": [
    "# Logistics:"
   ]
  },
  {
   "cell_type": "code",
   "execution_count": 2,
   "id": "6339f3aa-adb0-4236-a3af-c4ff4d6abc4c",
   "metadata": {},
   "outputs": [],
   "source": [
    "import parliamentarch\n",
    "import ipywidgets as widgets"
   ]
  },
  {
   "cell_type": "code",
   "execution_count": 3,
   "id": "a63e21ed-e96e-45bc-9e1f-baffcd02664e",
   "metadata": {},
   "outputs": [],
   "source": [
    "from IPython.display import SVG, display\n",
    "def show_svg(svg_string):\n",
    "    display(SVG(svg_string))"
   ]
  },
  {
   "cell_type": "code",
   "execution_count": 4,
   "id": "40bd2779-1510-46ec-a729-e23eceec1b7e",
   "metadata": {},
   "outputs": [],
   "source": [
    "import hashlib\n",
    "\n",
    "def color_hash(string: str):\n",
    "    return \"#\" + hashlib.sha256(string.encode('utf-8')).hexdigest()[:6].upper()"
   ]
  },
  {
   "cell_type": "code",
   "execution_count": 5,
   "id": "ec2d8aab-6752-42aa-964e-d8732e72eae0",
   "metadata": {},
   "outputs": [],
   "source": [
    "class DefaultColorDict(dict):\n",
    "    def __missing__(self, key):\n",
    "        value = color_hash(key)\n",
    "        # insert value into dict and return value\n",
    "        self[key] = value\n",
    "        return value"
   ]
  },
  {
   "cell_type": "code",
   "execution_count": 6,
   "id": "928be84a-1c53-41d9-bbc4-a4a1aad00915",
   "metadata": {},
   "outputs": [],
   "source": [
    "party_colors = DefaultColorDict(\n",
    "{\n",
    "    'PvdA-GL': 'red',\n",
    "    'D66': 'green',\n",
    "    'CDA': 'black',\n",
    "    'VVD': 'blue',\n",
    "    'SGP': 'orange',\n",
    "    'DENK': 'cyan',\n",
    "    'Volt': 'purple',\n",
    "    'rest': '#ccc',\n",
    "})"
   ]
  },
  {
   "cell_type": "code",
   "execution_count": 7,
   "id": "7246e52a-2af7-4892-b165-5891abd3213a",
   "metadata": {},
   "outputs": [],
   "source": [
    "def display_seats(seats: dict[str, int]):\n",
    "    attrib = {parliamentarch.SeatData(name, party_colors[name]): number for name, number in seats.items()}\n",
    "    svg = parliamentarch.get_svg_from_attribution(attrib)\n",
    "    show_svg(svg)"
   ]
  },
  {
   "cell_type": "code",
   "execution_count": 8,
   "id": "9abe10f5-69fc-42e6-be6a-8df3bc23776c",
   "metadata": {},
   "outputs": [],
   "source": [
    "# Main app:"
   ]
  },
  {
   "cell_type": "code",
   "execution_count": 9,
   "id": "5c5e3576-e2dc-4489-9b9f-e18d86c6cb58",
   "metadata": {},
   "outputs": [],
   "source": [
    "# huidige tweede kamer\n",
    "tweede_kamer_seats = {\n",
    "    \"PVV\": 37,\n",
    "    \"VVD\": 24,\n",
    "    \"NSC\": 20,\n",
    "    \"BBB\": 7,\n",
    "    \"PvdA-GL\": 25,\n",
    "    \"D66\": 9,\n",
    "    \"CDA\": 5,\n",
    "    \"SP\": 5,\n",
    "    \"FvD\": 3,\n",
    "    \"DENK\": 3,\n",
    "    \"PvdD\": 3,\n",
    "    \"SGP\": 3,\n",
    "    \"CU\": 3,\n",
    "    \"Volt\": 2,\n",
    "    \"JA21\": 1,\n",
    "    \"50PLUS\": 0,\n",
    "}"
   ]
  },
  {
   "cell_type": "code",
   "execution_count": 10,
   "id": "02e38aae-69e4-4de2-a4c9-ba93be291220",
   "metadata": {},
   "outputs": [],
   "source": [
    "# huidige eerste kamer\n",
    "eerste_kamer_seats = {\n",
    "    \"BBB\": 16,\n",
    "    \"VVD\": 10,\n",
    "    \"PVV\": 4,\n",
    "    \"PvdA-GL\": 14,\n",
    "    \"CDA\": 6,\n",
    "    \"D66\": 5,\n",
    "    \"SP\": 3,\n",
    "    \"PvdD\": 3,\n",
    "    \"JA21\": 3,\n",
    "    \"CU\": 3,\n",
    "    \"SGP\": 2,\n",
    "    \"Volt\": 2,\n",
    "    \"FvD\": 2,\n",
    "    \"50PLUS\": 1,\n",
    "    \"OSF/OPNL\": 1,\n",
    "}"
   ]
  },
  {
   "cell_type": "code",
   "execution_count": 11,
   "id": "a1c7d702-3ba0-4d4e-982a-40e6e21f4217",
   "metadata": {},
   "outputs": [
    {
     "data": {
      "application/vnd.jupyter.widget-view+json": {
       "model_id": "27a18511de7e4f58a03fae559aa05db6",
       "version_major": 2,
       "version_minor": 0
      },
      "text/plain": [
       "Checkbox(value=False, description='PVV (zetels: 37 2e Kamer, 4 1e Kamer)', indent=False)"
      ]
     },
     "metadata": {},
     "output_type": "display_data"
    },
    {
     "data": {
      "application/vnd.jupyter.widget-view+json": {
       "model_id": "177c0281d8364e2481955e9fca4a312e",
       "version_major": 2,
       "version_minor": 0
      },
      "text/plain": [
       "Checkbox(value=False, description='VVD (zetels: 24 2e Kamer, 10 1e Kamer)', indent=False)"
      ]
     },
     "metadata": {},
     "output_type": "display_data"
    },
    {
     "data": {
      "application/vnd.jupyter.widget-view+json": {
       "model_id": "cbf0939ce63e496fac477e56e9cc96bd",
       "version_major": 2,
       "version_minor": 0
      },
      "text/plain": [
       "Checkbox(value=False, description='NSC (zetels: 20 2e Kamer, 0 1e Kamer)', indent=False)"
      ]
     },
     "metadata": {},
     "output_type": "display_data"
    },
    {
     "data": {
      "application/vnd.jupyter.widget-view+json": {
       "model_id": "7e3982e2e91942b282801dc09f8d019d",
       "version_major": 2,
       "version_minor": 0
      },
      "text/plain": [
       "Checkbox(value=False, description='BBB (zetels: 7 2e Kamer, 16 1e Kamer)', indent=False)"
      ]
     },
     "metadata": {},
     "output_type": "display_data"
    },
    {
     "data": {
      "application/vnd.jupyter.widget-view+json": {
       "model_id": "cda9eec0929348769a79b78a92fd80c1",
       "version_major": 2,
       "version_minor": 0
      },
      "text/plain": [
       "Checkbox(value=False, description='PvdA-GL (zetels: 25 2e Kamer, 14 1e Kamer)', indent=False)"
      ]
     },
     "metadata": {},
     "output_type": "display_data"
    },
    {
     "data": {
      "application/vnd.jupyter.widget-view+json": {
       "model_id": "cf7d26e722864e43824e4668fa29e7fc",
       "version_major": 2,
       "version_minor": 0
      },
      "text/plain": [
       "Checkbox(value=False, description='D66 (zetels: 9 2e Kamer, 5 1e Kamer)', indent=False)"
      ]
     },
     "metadata": {},
     "output_type": "display_data"
    },
    {
     "data": {
      "application/vnd.jupyter.widget-view+json": {
       "model_id": "8f2b032c72224284b5c6873c7a28f9f6",
       "version_major": 2,
       "version_minor": 0
      },
      "text/plain": [
       "Checkbox(value=False, description='CDA (zetels: 5 2e Kamer, 6 1e Kamer)', indent=False)"
      ]
     },
     "metadata": {},
     "output_type": "display_data"
    },
    {
     "data": {
      "application/vnd.jupyter.widget-view+json": {
       "model_id": "0b30bceb61a24b928c85ade6dde7baa0",
       "version_major": 2,
       "version_minor": 0
      },
      "text/plain": [
       "Checkbox(value=False, description='SP (zetels: 5 2e Kamer, 3 1e Kamer)', indent=False)"
      ]
     },
     "metadata": {},
     "output_type": "display_data"
    },
    {
     "data": {
      "application/vnd.jupyter.widget-view+json": {
       "model_id": "9ecb04f3a4be46bcb21e80422737b0fb",
       "version_major": 2,
       "version_minor": 0
      },
      "text/plain": [
       "Checkbox(value=False, description='FvD (zetels: 3 2e Kamer, 2 1e Kamer)', indent=False)"
      ]
     },
     "metadata": {},
     "output_type": "display_data"
    },
    {
     "data": {
      "application/vnd.jupyter.widget-view+json": {
       "model_id": "7b857185ca63415496482abc09af3e0a",
       "version_major": 2,
       "version_minor": 0
      },
      "text/plain": [
       "Checkbox(value=False, description='DENK (zetels: 3 2e Kamer, 0 1e Kamer)', indent=False)"
      ]
     },
     "metadata": {},
     "output_type": "display_data"
    },
    {
     "data": {
      "application/vnd.jupyter.widget-view+json": {
       "model_id": "7f98ea35699c4a9080f5c4ab996168a1",
       "version_major": 2,
       "version_minor": 0
      },
      "text/plain": [
       "Checkbox(value=False, description='PvdD (zetels: 3 2e Kamer, 3 1e Kamer)', indent=False)"
      ]
     },
     "metadata": {},
     "output_type": "display_data"
    },
    {
     "data": {
      "application/vnd.jupyter.widget-view+json": {
       "model_id": "7e73f814f4e344b39f884d676f4b27e4",
       "version_major": 2,
       "version_minor": 0
      },
      "text/plain": [
       "Checkbox(value=False, description='SGP (zetels: 3 2e Kamer, 2 1e Kamer)', indent=False)"
      ]
     },
     "metadata": {},
     "output_type": "display_data"
    },
    {
     "data": {
      "application/vnd.jupyter.widget-view+json": {
       "model_id": "052dc1bd5c6040ff94391ba82bbdfb68",
       "version_major": 2,
       "version_minor": 0
      },
      "text/plain": [
       "Checkbox(value=False, description='CU (zetels: 3 2e Kamer, 3 1e Kamer)', indent=False)"
      ]
     },
     "metadata": {},
     "output_type": "display_data"
    },
    {
     "data": {
      "application/vnd.jupyter.widget-view+json": {
       "model_id": "c2667033062a45aeaac9c9a263617055",
       "version_major": 2,
       "version_minor": 0
      },
      "text/plain": [
       "Checkbox(value=False, description='Volt (zetels: 2 2e Kamer, 2 1e Kamer)', indent=False)"
      ]
     },
     "metadata": {},
     "output_type": "display_data"
    },
    {
     "data": {
      "application/vnd.jupyter.widget-view+json": {
       "model_id": "994bec5ff18a40c1a00087d9f8813f0c",
       "version_major": 2,
       "version_minor": 0
      },
      "text/plain": [
       "Checkbox(value=False, description='JA21 (zetels: 1 2e Kamer, 3 1e Kamer)', indent=False)"
      ]
     },
     "metadata": {},
     "output_type": "display_data"
    },
    {
     "data": {
      "application/vnd.jupyter.widget-view+json": {
       "model_id": "7b0d67a0a7b2427aacbebbfc86f998a6",
       "version_major": 2,
       "version_minor": 0
      },
      "text/plain": [
       "Checkbox(value=False, description='50PLUS (zetels: 0 2e Kamer, 1 1e Kamer)', indent=False)"
      ]
     },
     "metadata": {},
     "output_type": "display_data"
    },
    {
     "data": {
      "application/vnd.jupyter.widget-view+json": {
       "model_id": "f7e8943a74634b4c89543d1ed9f7fa96",
       "version_major": 2,
       "version_minor": 0
      },
      "text/plain": [
       "Output()"
      ]
     },
     "metadata": {},
     "output_type": "display_data"
    }
   ],
   "source": [
    "eerste_kamer_selectie = {\"rest\": 75}\n",
    "tweede_kamer_selectie = {\"rest\": 150}\n",
    "\n",
    "output = widgets.Output()\n",
    "\n",
    "def display_archs():\n",
    "    with output:\n",
    "        print(\"Tweede Kamer\")\n",
    "        display_seats(tweede_kamer_selectie)\n",
    "        print(\"Eerste Kamer\")\n",
    "        display_seats(eerste_kamer_selectie)\n",
    "\n",
    "def on_change(change):\n",
    "    output.outputs = []\n",
    "    owner = change[\"owner\"]\n",
    "\n",
    "    rest_2K_oud = tweede_kamer_selectie.pop('rest')\n",
    "    rest_1K_oud = eerste_kamer_selectie.pop('rest')\n",
    "    if change[\"new\"]:\n",
    "        tweede_kamer_selectie[owner.party_name] = owner.seats2K\n",
    "        tweede_kamer_selectie['rest'] = rest_2K_oud - owner.seats2K\n",
    "        eerste_kamer_selectie[owner.party_name] = owner.seats1K\n",
    "        eerste_kamer_selectie['rest'] = rest_1K_oud - owner.seats1K\n",
    "    else:\n",
    "        tweede_kamer_selectie.pop(owner.party_name)\n",
    "        tweede_kamer_selectie['rest'] = rest_2K_oud + owner.seats2K\n",
    "        eerste_kamer_selectie.pop(owner.party_name)\n",
    "        eerste_kamer_selectie['rest'] = rest_1K_oud + owner.seats1K\n",
    "\n",
    "    display_archs()\n",
    "\n",
    "checkboxes = []\n",
    "for party_name, party_seats_2K in tweede_kamer_seats.items():\n",
    "    party_seats_1K = eerste_kamer_seats.get(party_name, 0)\n",
    "    widget = widgets.Checkbox(\n",
    "        value=False,\n",
    "        description=f\"{party_name} (zetels: {party_seats_2K} 2e Kamer, {party_seats_1K} 1e Kamer)\",\n",
    "        disabled=False,\n",
    "        indent=False\n",
    "    )\n",
    "    widget.party_name = party_name\n",
    "    widget.seats2K = party_seats_2K\n",
    "    widget.seats1K = party_seats_1K\n",
    "    display(widget)\n",
    "    widget.observe(on_change, names='value')\n",
    "    checkboxes.append(widget)\n",
    "\n",
    "display_archs()\n",
    "\n",
    "display(output)"
   ]
  },
  {
   "cell_type": "code",
   "execution_count": null,
   "id": "e8770d2e-4733-47e7-b194-c74074b9a754",
   "metadata": {},
   "outputs": [],
   "source": []
  }
 ],
 "metadata": {
  "kernelspec": {
   "display_name": "project",
   "language": "python",
   "name": "project"
  },
  "language_info": {
   "codemirror_mode": {
    "name": "ipython",
    "version": 3
   },
   "file_extension": ".py",
   "mimetype": "text/x-python",
   "name": "python",
   "nbconvert_exporter": "python",
   "pygments_lexer": "ipython3",
   "version": "3.13.5"
  }
 },
 "nbformat": 4,
 "nbformat_minor": 5
}
