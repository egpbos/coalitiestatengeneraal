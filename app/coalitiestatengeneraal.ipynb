{
 "cells": [
  {
   "cell_type": "code",
   "execution_count": 1,
   "id": "bbee3e97-0f57-4fd9-9349-6177cceeb67b",
   "metadata": {},
   "outputs": [],
   "source": [
    "# Logistics:"
   ]
  },
  {
   "cell_type": "code",
   "execution_count": 2,
   "id": "1150fad4-44ce-4376-b2eb-5ebb15111875",
   "metadata": {},
   "outputs": [
    {
     "name": "stdout",
     "output_type": "stream",
     "text": [
      "/Users/pbos/code/coalitiestatengeneraal/.venv/bin/python: No module named pip\n",
      "Note: you may need to restart the kernel to use updated packages.\n"
     ]
    }
   ],
   "source": [
    "%pip install parliamentarch ipywidgets"
   ]
  },
  {
   "cell_type": "code",
   "execution_count": 3,
   "id": "6339f3aa-adb0-4236-a3af-c4ff4d6abc4c",
   "metadata": {},
   "outputs": [],
   "source": [
    "import parliamentarch\n",
    "import ipywidgets as widgets"
   ]
  },
  {
   "cell_type": "code",
   "execution_count": 4,
   "id": "a63e21ed-e96e-45bc-9e1f-baffcd02664e",
   "metadata": {},
   "outputs": [],
   "source": [
    "from IPython.display import SVG, display\n",
    "def show_svg(svg_string):\n",
    "    display(SVG(svg_string))"
   ]
  },
  {
   "cell_type": "code",
   "execution_count": 5,
   "id": "40bd2779-1510-46ec-a729-e23eceec1b7e",
   "metadata": {},
   "outputs": [],
   "source": [
    "import hashlib\n",
    "\n",
    "def color_hash(string: str):\n",
    "    return \"#\" + hashlib.sha256(string.encode('utf-8')).hexdigest()[:6].upper()"
   ]
  },
  {
   "cell_type": "code",
   "execution_count": 6,
   "id": "ec2d8aab-6752-42aa-964e-d8732e72eae0",
   "metadata": {},
   "outputs": [],
   "source": [
    "class DefaultColorDict(dict):\n",
    "    def __missing__(self, key):\n",
    "        value = color_hash(key)\n",
    "        # insert value into dict and return value\n",
    "        self[key] = value\n",
    "        return value"
   ]
  },
  {
   "cell_type": "code",
   "execution_count": 60,
   "id": "928be84a-1c53-41d9-bbc4-a4a1aad00915",
   "metadata": {},
   "outputs": [],
   "source": [
    "party_colors = DefaultColorDict(\n",
    "{\n",
    "    'PvdA-GL': 'red',\n",
    "    'D66': 'green',\n",
    "    'CDA': '#444',\n",
    "    'VVD': 'blue',\n",
    "    'SGP': 'orange',\n",
    "    'DENK': 'cyan',\n",
    "    'Volt': 'purple',\n",
    "    'rest': '#ccc',\n",
    "})"
   ]
  },
  {
   "cell_type": "code",
   "execution_count": 61,
   "id": "7246e52a-2af7-4892-b165-5891abd3213a",
   "metadata": {},
   "outputs": [],
   "source": [
    "def display_seats(seats: dict[str, int], arch_canvas_size=175, arch_margins=5):\n",
    "    attrib = {parliamentarch.SeatData(name, party_colors[name]): number for name, number in seats.items()}\n",
    "    svg = parliamentarch.get_svg_from_attribution(attrib, canvas_size=arch_canvas_size, margins=arch_margins)\n",
    "    show_svg(svg)"
   ]
  },
  {
   "cell_type": "code",
   "execution_count": 62,
   "id": "9abe10f5-69fc-42e6-be6a-8df3bc23776c",
   "metadata": {},
   "outputs": [],
   "source": [
    "# Main app:"
   ]
  },
  {
   "cell_type": "code",
   "execution_count": 63,
   "id": "5c5e3576-e2dc-4489-9b9f-e18d86c6cb58",
   "metadata": {},
   "outputs": [],
   "source": [
    "# huidige tweede kamer\n",
    "tweede_kamer_seats = {\n",
    "    \"PVV\": 37,\n",
    "    \"VVD\": 24,\n",
    "    \"NSC\": 20,\n",
    "    \"BBB\": 7,\n",
    "    \"PvdA-GL\": 25,\n",
    "    \"D66\": 9,\n",
    "    \"CDA\": 5,\n",
    "    \"SP\": 5,\n",
    "    \"FvD\": 3,\n",
    "    \"DENK\": 3,\n",
    "    \"PvdD\": 3,\n",
    "    \"SGP\": 3,\n",
    "    \"CU\": 3,\n",
    "    \"Volt\": 2,\n",
    "    \"JA21\": 1,\n",
    "    \"50PLUS\": 0,\n",
    "}"
   ]
  },
  {
   "cell_type": "code",
   "execution_count": 64,
   "id": "02e38aae-69e4-4de2-a4c9-ba93be291220",
   "metadata": {},
   "outputs": [],
   "source": [
    "# huidige eerste kamer\n",
    "eerste_kamer_seats = {\n",
    "    \"BBB\": 16,\n",
    "    \"VVD\": 10,\n",
    "    \"PVV\": 4,\n",
    "    \"PvdA-GL\": 14,\n",
    "    \"CDA\": 6,\n",
    "    \"D66\": 5,\n",
    "    \"SP\": 3,\n",
    "    \"PvdD\": 3,\n",
    "    \"JA21\": 3,\n",
    "    \"CU\": 3,\n",
    "    \"SGP\": 2,\n",
    "    \"Volt\": 2,\n",
    "    \"FvD\": 2,\n",
    "    \"50PLUS\": 1,\n",
    "    \"OSF/OPNL\": 1,\n",
    "}"
   ]
  },
  {
   "cell_type": "code",
   "execution_count": 65,
   "id": "c14131d8",
   "metadata": {},
   "outputs": [],
   "source": [
    "partijen = sorted(set(tweede_kamer_seats.keys()) | set(eerste_kamer_seats.keys()), key=lambda p: (-tweede_kamer_seats.get(p, 0) - eerste_kamer_seats.get(p, 0), p))"
   ]
  },
  {
   "cell_type": "code",
   "execution_count": null,
   "id": "a1c7d702-3ba0-4d4e-982a-40e6e21f4217",
   "metadata": {},
   "outputs": [
    {
     "data": {
      "application/vnd.jupyter.widget-view+json": {
       "model_id": "80bc04c514824dfa901f37fe98780e19",
       "version_major": 2,
       "version_minor": 0
      },
      "text/plain": [
       "HTML(value='<b>Selecteer partijen om hun zetels weer te geven in beide kamers.</b>')"
      ]
     },
     "metadata": {},
     "output_type": "display_data"
    },
    {
     "data": {
      "application/vnd.jupyter.widget-view+json": {
       "model_id": "d86ee6ea8be84f4c99e30f0c347c9e33",
       "version_major": 2,
       "version_minor": 0
      },
      "text/plain": [
       "Box(children=(Output(layout=Layout(width='360px')), VBox(children=(Checkbox(value=False, description='PVV (zet…"
      ]
     },
     "metadata": {},
     "output_type": "display_data"
    }
   ],
   "source": [
    "eerste_kamer_selectie = {\"rest\": 75}\n",
    "tweede_kamer_selectie = {\"rest\": 150}\n",
    "\n",
    "# layout\n",
    "arch_canvas_size = 175 # px height, half the width\n",
    "arch_margins = 5 # px\n",
    "\n",
    "output_layout = {\n",
    "    # 'width': '100%',\n",
    "    'width': f'{arch_margins * 2 + arch_canvas_size * 2}px',\n",
    "}\n",
    "\n",
    "output = widgets.Output(layout=output_layout)\n",
    "\n",
    "def display_archs():\n",
    "    with output:\n",
    "        tweede_kamer_coalitie_seats = sum(tweede_kamer_selectie.values()) - tweede_kamer_selectie[\"rest\"]\n",
    "        if tweede_kamer_coalitie_seats > sum(tweede_kamer_selectie.values()) / 2:\n",
    "            tweede_kamer_coalitie_status = \" (meerderheid)\"\n",
    "        else:\n",
    "            tweede_kamer_coalitie_status = \"\"\n",
    "        print(f\"Tweede Kamer: {tweede_kamer_coalitie_seats} zetels{tweede_kamer_coalitie_status}\")\n",
    "        display_seats(tweede_kamer_selectie, arch_canvas_size=arch_canvas_size, arch_margins=arch_margins)\n",
    "\n",
    "        eerste_kamer_coalitie_seats = sum(eerste_kamer_selectie.values()) - eerste_kamer_selectie[\"rest\"]\n",
    "        if eerste_kamer_coalitie_seats > sum(eerste_kamer_selectie.values()) / 2:\n",
    "            eerste_kamer_coalitie_status = \" (meerderheid)\"\n",
    "        else:\n",
    "            eerste_kamer_coalitie_status = \"\"\n",
    "        print(f\"Eerste Kamer: {eerste_kamer_coalitie_seats} zetels{eerste_kamer_coalitie_status}\")\n",
    "        display_seats(eerste_kamer_selectie, arch_canvas_size=arch_canvas_size, arch_margins=arch_margins)\n",
    "\n",
    "def on_change(change):\n",
    "    output.outputs = []\n",
    "    output.clear_output() # for vscode notebook support; not needed in Voila/Jupyter/Voici\n",
    "    owner = change[\"owner\"]\n",
    "\n",
    "    rest_2K_oud = tweede_kamer_selectie.pop('rest')\n",
    "    rest_1K_oud = eerste_kamer_selectie.pop('rest')\n",
    "    if change[\"new\"]: # checkbox checked\n",
    "        tweede_kamer_selectie[owner.party_name] = owner.seats2K\n",
    "        tweede_kamer_selectie['rest'] = rest_2K_oud - owner.seats2K\n",
    "        eerste_kamer_selectie[owner.party_name] = owner.seats1K\n",
    "        eerste_kamer_selectie['rest'] = rest_1K_oud - owner.seats1K\n",
    "        # color the checkbox label with party color\n",
    "        owner.style.background = party_colors[owner.party_name]\n",
    "    else:             # checkbox unchecked\n",
    "        tweede_kamer_selectie.pop(owner.party_name)\n",
    "        tweede_kamer_selectie['rest'] = rest_2K_oud + owner.seats2K\n",
    "        eerste_kamer_selectie.pop(owner.party_name)\n",
    "        eerste_kamer_selectie['rest'] = rest_1K_oud + owner.seats1K\n",
    "        # reset color\n",
    "        owner.style.background = None\n",
    "\n",
    "    display_archs()\n",
    "\n",
    "checkboxes = []\n",
    "\n",
    "for party_name in partijen:\n",
    "    party_seats_2K = tweede_kamer_seats.get(party_name, 0)\n",
    "    party_seats_1K = eerste_kamer_seats.get(party_name, 0)\n",
    "    widget = widgets.Checkbox(\n",
    "        value=False,\n",
    "        description=f\"{party_name} (zetels: {party_seats_2K} 2e Kamer, {party_seats_1K} 1e Kamer)\",\n",
    "        disabled=False,\n",
    "        indent=False\n",
    "    )\n",
    "    widget.party_name = party_name\n",
    "    widget.seats2K = party_seats_2K\n",
    "    widget.seats1K = party_seats_1K\n",
    "    widget.observe(on_change, names='value')\n",
    "    checkboxes.append(widget)\n",
    "\n",
    "display(widgets.HTML(value=\"<b>Selecteer partijen om hun zetels weer te geven in beide kamers.</b>\"))\n",
    "checkboxes_vbox = widgets.VBox(checkboxes, disabled=False)\n",
    "box = widgets.Box([output, checkboxes_vbox], disabled=False)\n",
    "\n",
    "display_archs()\n",
    "\n",
    "display(box)"
   ]
  },
  {
   "cell_type": "code",
   "execution_count": null,
   "id": "9b90306c",
   "metadata": {},
   "outputs": [],
   "source": []
  }
 ],
 "metadata": {
  "kernelspec": {
   "display_name": "project",
   "language": "python",
   "name": "project"
  },
  "language_info": {
   "codemirror_mode": {
    "name": "ipython",
    "version": 3
   },
   "file_extension": ".py",
   "mimetype": "text/x-python",
   "name": "python",
   "nbconvert_exporter": "python",
   "pygments_lexer": "ipython3",
   "version": "3.13.5"
  }
 },
 "nbformat": 4,
 "nbformat_minor": 5
}
