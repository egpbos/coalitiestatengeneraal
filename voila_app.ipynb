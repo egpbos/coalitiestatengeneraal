{
 "cells": [
  {
   "cell_type": "code",
   "execution_count": 15,
   "id": "bbee3e97-0f57-4fd9-9349-6177cceeb67b",
   "metadata": {},
   "outputs": [],
   "source": [
    "# Logistics:"
   ]
  },
  {
   "cell_type": "code",
   "execution_count": 2,
   "id": "6339f3aa-adb0-4236-a3af-c4ff4d6abc4c",
   "metadata": {},
   "outputs": [],
   "source": [
    "import parliamentarch\n",
    "import ipywidgets as widgets"
   ]
  },
  {
   "cell_type": "code",
   "execution_count": 3,
   "id": "a63e21ed-e96e-45bc-9e1f-baffcd02664e",
   "metadata": {},
   "outputs": [],
   "source": [
    "from IPython.display import SVG, display\n",
    "def show_svg(svg_string):\n",
    "    display(SVG(svg_string))"
   ]
  },
  {
   "cell_type": "code",
   "execution_count": 4,
   "id": "40bd2779-1510-46ec-a729-e23eceec1b7e",
   "metadata": {},
   "outputs": [],
   "source": [
    "import hashlib\n",
    "\n",
    "def color_hash(string: str):\n",
    "    return \"#\" + hashlib.sha256(string.encode('utf-8')).hexdigest()[:6].upper()"
   ]
  },
  {
   "cell_type": "code",
   "execution_count": 5,
   "id": "ec2d8aab-6752-42aa-964e-d8732e72eae0",
   "metadata": {},
   "outputs": [],
   "source": [
    "class DefaultColorDict(dict):\n",
    "    def __missing__(self, key):\n",
    "        value = color_hash(key)\n",
    "        # insert value into dict and return value\n",
    "        self[key] = value\n",
    "        return value"
   ]
  },
  {
   "cell_type": "code",
   "execution_count": 6,
   "id": "928be84a-1c53-41d9-bbc4-a4a1aad00915",
   "metadata": {},
   "outputs": [],
   "source": [
    "party_colors = DefaultColorDict(\n",
    "{\n",
    "    'PvdA-GL': 'red',\n",
    "    'D66': 'green',\n",
    "    'CDA': 'black',\n",
    "    'VVD': 'blue',\n",
    "    'SGP': 'orange',\n",
    "    'DENK': 'cyan',\n",
    "    'Volt': 'purple',\n",
    "    'rest': '#ccc',\n",
    "})"
   ]
  },
  {
   "cell_type": "code",
   "execution_count": 7,
   "id": "7246e52a-2af7-4892-b165-5891abd3213a",
   "metadata": {},
   "outputs": [],
   "source": [
    "def display_seats(seats: tuple[str, int]):\n",
    "    attrib = {parliamentarch.SeatData(name, party_colors[name]): number for name, number in seats}\n",
    "    svg = parliamentarch.get_svg_from_attribution(attrib)\n",
    "    show_svg(svg)"
   ]
  },
  {
   "cell_type": "code",
   "execution_count": 14,
   "id": "9abe10f5-69fc-42e6-be6a-8df3bc23776c",
   "metadata": {},
   "outputs": [],
   "source": [
    "# Main app:"
   ]
  },
  {
   "cell_type": "code",
   "execution_count": 8,
   "id": "5c5e3576-e2dc-4489-9b9f-e18d86c6cb58",
   "metadata": {},
   "outputs": [],
   "source": [
    "tweede_kamer_seats = [\n",
    "    [\"PVV\", 37],\n",
    "    [\"VVD\", 24],\n",
    "    [\"NSC\", 20],\n",
    "    [\"BBB\", 7],\n",
    "    [\"PvdA-GL\", 25],\n",
    "    [\"D66\", 9],\n",
    "    [\"CDA\", 5],\n",
    "    [\"SP\", 5],\n",
    "    [\"FvD\", 3],\n",
    "    [\"DENK\", 3],\n",
    "    [\"PvdD\", 3],\n",
    "    [\"SGP\", 3],\n",
    "    [\"CU\", 3],\n",
    "    [\"Volt\", 2],\n",
    "    [\"JA21\", 1],\n",
    "    [\"50PLUS\", 0],\n",
    "]"
   ]
  },
  {
   "cell_type": "code",
   "execution_count": 13,
   "id": "a1c7d702-3ba0-4d4e-982a-40e6e21f4217",
   "metadata": {},
   "outputs": [
    {
     "name": "stdout",
     "output_type": "stream",
     "text": [
      "Tweede Kamer\n"
     ]
    },
    {
     "data": {
      "application/vnd.jupyter.widget-view+json": {
       "model_id": "8fda94ee5d0648ceaee3146c118eefa6",
       "version_major": 2,
       "version_minor": 0
      },
      "text/plain": [
       "Checkbox(value=False, description='PVV (37 zetels)', indent=False)"
      ]
     },
     "metadata": {},
     "output_type": "display_data"
    },
    {
     "data": {
      "application/vnd.jupyter.widget-view+json": {
       "model_id": "51a4e2b10ec44271a576bb48e2a464ca",
       "version_major": 2,
       "version_minor": 0
      },
      "text/plain": [
       "Checkbox(value=False, description='VVD (24 zetels)', indent=False)"
      ]
     },
     "metadata": {},
     "output_type": "display_data"
    },
    {
     "data": {
      "application/vnd.jupyter.widget-view+json": {
       "model_id": "4850f92d501646a3bb7b5214859a38fc",
       "version_major": 2,
       "version_minor": 0
      },
      "text/plain": [
       "Checkbox(value=False, description='NSC (20 zetels)', indent=False)"
      ]
     },
     "metadata": {},
     "output_type": "display_data"
    },
    {
     "data": {
      "application/vnd.jupyter.widget-view+json": {
       "model_id": "e7f088cbee9543ffa91cca75c7e59fda",
       "version_major": 2,
       "version_minor": 0
      },
      "text/plain": [
       "Checkbox(value=False, description='BBB (7 zetels)', indent=False)"
      ]
     },
     "metadata": {},
     "output_type": "display_data"
    },
    {
     "data": {
      "application/vnd.jupyter.widget-view+json": {
       "model_id": "85dabc48d5854f6a942b242e0c89efba",
       "version_major": 2,
       "version_minor": 0
      },
      "text/plain": [
       "Checkbox(value=False, description='PvdA-GL (25 zetels)', indent=False)"
      ]
     },
     "metadata": {},
     "output_type": "display_data"
    },
    {
     "data": {
      "application/vnd.jupyter.widget-view+json": {
       "model_id": "e332ab007a5441e69a53eb9db403931a",
       "version_major": 2,
       "version_minor": 0
      },
      "text/plain": [
       "Checkbox(value=False, description='D66 (9 zetels)', indent=False)"
      ]
     },
     "metadata": {},
     "output_type": "display_data"
    },
    {
     "data": {
      "application/vnd.jupyter.widget-view+json": {
       "model_id": "dcf32ba0a12240cc93f86d516e2be5df",
       "version_major": 2,
       "version_minor": 0
      },
      "text/plain": [
       "Checkbox(value=False, description='CDA (5 zetels)', indent=False)"
      ]
     },
     "metadata": {},
     "output_type": "display_data"
    },
    {
     "data": {
      "application/vnd.jupyter.widget-view+json": {
       "model_id": "96295cdd003d496c99baab0ceb14e8b9",
       "version_major": 2,
       "version_minor": 0
      },
      "text/plain": [
       "Checkbox(value=False, description='SP (5 zetels)', indent=False)"
      ]
     },
     "metadata": {},
     "output_type": "display_data"
    },
    {
     "data": {
      "application/vnd.jupyter.widget-view+json": {
       "model_id": "1febd14c5f9f410191afea6f4023f078",
       "version_major": 2,
       "version_minor": 0
      },
      "text/plain": [
       "Checkbox(value=False, description='FvD (3 zetels)', indent=False)"
      ]
     },
     "metadata": {},
     "output_type": "display_data"
    },
    {
     "data": {
      "application/vnd.jupyter.widget-view+json": {
       "model_id": "ac1521e63603433c9c54151959ef705c",
       "version_major": 2,
       "version_minor": 0
      },
      "text/plain": [
       "Checkbox(value=False, description='DENK (3 zetels)', indent=False)"
      ]
     },
     "metadata": {},
     "output_type": "display_data"
    },
    {
     "data": {
      "application/vnd.jupyter.widget-view+json": {
       "model_id": "c7753921d5e64d8ca1a72fbd3f8d8d6a",
       "version_major": 2,
       "version_minor": 0
      },
      "text/plain": [
       "Checkbox(value=False, description='PvdD (3 zetels)', indent=False)"
      ]
     },
     "metadata": {},
     "output_type": "display_data"
    },
    {
     "data": {
      "application/vnd.jupyter.widget-view+json": {
       "model_id": "0b774a3c779a4c569b24d02fa07c53be",
       "version_major": 2,
       "version_minor": 0
      },
      "text/plain": [
       "Checkbox(value=False, description='SGP (3 zetels)', indent=False)"
      ]
     },
     "metadata": {},
     "output_type": "display_data"
    },
    {
     "data": {
      "application/vnd.jupyter.widget-view+json": {
       "model_id": "4f9b79dde6c64b0a8a98a4b915a145ac",
       "version_major": 2,
       "version_minor": 0
      },
      "text/plain": [
       "Checkbox(value=False, description='CU (3 zetels)', indent=False)"
      ]
     },
     "metadata": {},
     "output_type": "display_data"
    },
    {
     "data": {
      "application/vnd.jupyter.widget-view+json": {
       "model_id": "2ae3294bf1a1476c8cc4f1bf3ce1e9f6",
       "version_major": 2,
       "version_minor": 0
      },
      "text/plain": [
       "Checkbox(value=False, description='Volt (2 zetels)', indent=False)"
      ]
     },
     "metadata": {},
     "output_type": "display_data"
    },
    {
     "data": {
      "application/vnd.jupyter.widget-view+json": {
       "model_id": "c37122fc8d33495eaf6a7f6833f803ec",
       "version_major": 2,
       "version_minor": 0
      },
      "text/plain": [
       "Checkbox(value=False, description='JA21 (1 zetels)', indent=False)"
      ]
     },
     "metadata": {},
     "output_type": "display_data"
    },
    {
     "data": {
      "application/vnd.jupyter.widget-view+json": {
       "model_id": "3e9b140ad4a8482089369b929d618e9b",
       "version_major": 2,
       "version_minor": 0
      },
      "text/plain": [
       "Checkbox(value=False, description='50PLUS (0 zetels)', indent=False)"
      ]
     },
     "metadata": {},
     "output_type": "display_data"
    },
    {
     "data": {
      "application/vnd.jupyter.widget-view+json": {
       "model_id": "1eaa58d69065426e870ed3c551df9f5c",
       "version_major": 2,
       "version_minor": 0
      },
      "text/plain": [
       "Output()"
      ]
     },
     "metadata": {},
     "output_type": "display_data"
    }
   ],
   "source": [
    "tweede_kamer_selectie = {\"rest\": 150}\n",
    "\n",
    "output = widgets.Output()\n",
    "\n",
    "def on_tweede_kamer_change(change):\n",
    "    output.outputs = []\n",
    "    owner = change[\"owner\"]\n",
    "    rest_oud = tweede_kamer_selectie.pop('rest')\n",
    "    if change[\"new\"]:\n",
    "        tweede_kamer_selectie[owner.party_name] = owner.seats\n",
    "        tweede_kamer_selectie['rest'] = rest_oud - owner.seats\n",
    "    else:\n",
    "        tweede_kamer_selectie.pop(owner.party_name)\n",
    "        tweede_kamer_selectie['rest'] = rest_oud + owner.seats\n",
    "\n",
    "    with output:\n",
    "        display_seats(list(tweede_kamer_selectie.items()))\n",
    "\n",
    "print(\"Tweede Kamer\")\n",
    "\n",
    "tweede_kamer_checkboxes = []\n",
    "for party_name, seats in tweede_kamer_seats:\n",
    "    widget = widgets.Checkbox(\n",
    "        value=False,\n",
    "        description=f\"{party_name} ({seats} zetels)\",\n",
    "        disabled=False,\n",
    "        indent=False\n",
    "    )\n",
    "    widget.party_name = party_name\n",
    "    widget.seats = seats\n",
    "    display(widget)\n",
    "    widget.observe(on_tweede_kamer_change, names='value')\n",
    "    tweede_kamer_checkboxes.append(widget)\n",
    "\n",
    "with output:\n",
    "    display_seats(list(tweede_kamer_selectie.items()))\n",
    "\n",
    "display(output)"
   ]
  },
  {
   "cell_type": "code",
   "execution_count": null,
   "id": "f41b4a76-ad2e-46f5-9d33-6ac2f3619d92",
   "metadata": {},
   "outputs": [],
   "source": []
  },
  {
   "cell_type": "code",
   "execution_count": 12,
   "id": "ceabcb79-61f1-43a5-8e63-58f3493cee11",
   "metadata": {},
   "outputs": [
    {
     "name": "stdout",
     "output_type": "stream",
     "text": [
      "Eerste Kamer\n"
     ]
    },
    {
     "data": {
      "image/svg+xml": [
       "<svg xmlns:svg=\"http://www.w3.org/2000/svg\" xmlns=\"http://www.w3.org/2000/svg\" version=\"1.1\" width=\"360.0\" height=\"185.0\">\n",
       "    <!-- Created with parliamentarch (https://github.com/Gouvernathor/parliamentarch/) -->\n",
       "    <text x=\"180.0\" y=\"175.0\" style=\"font-size:36px;font-weight:bold;text-align:center;text-anchor:middle;font-family:sans-serif\">75</text>\n",
       "    <g style=\"fill:#dcdb70\" id=\"0-BBB\">\n",
       "        <title>BBB</title>\n",
       "        <circle cx=\"15.01\" cy=\"170.28\" r=\"7.78\"/>\n",
       "        <circle cx=\"34.49\" cy=\"170.28\" r=\"7.78\"/>\n",
       "        <circle cx=\"53.99\" cy=\"170.28\" r=\"7.78\"/>\n",
       "        <circle cx=\"73.50\" cy=\"170.28\" r=\"7.78\"/>\n",
       "        <circle cx=\"93.04\" cy=\"170.28\" r=\"7.78\"/>\n",
       "        <circle cx=\"18.63\" cy=\"144.25\" r=\"7.78\"/>\n",
       "        <circle cx=\"38.87\" cy=\"143.25\" r=\"7.78\"/>\n",
       "        <circle cx=\"58.90\" cy=\"143.81\" r=\"7.78\"/>\n",
       "        <circle cx=\"79.09\" cy=\"144.57\" r=\"7.78\"/>\n",
       "        <circle cx=\"26.34\" cy=\"119.13\" r=\"7.78\"/>\n",
       "        <circle cx=\"100.67\" cy=\"143.07\" r=\"7.78\"/>\n",
       "        <circle cx=\"48.23\" cy=\"117.52\" r=\"7.78\"/>\n",
       "        <circle cx=\"69.31\" cy=\"118.99\" r=\"7.78\"/>\n",
       "        <circle cx=\"37.93\" cy=\"95.55\" r=\"7.78\"/>\n",
       "        <circle cx=\"90.80\" cy=\"121.01\" r=\"7.78\"/>\n",
       "        <circle cx=\"62.23\" cy=\"94.00\" r=\"7.78\"/>\n",
       "    </g>\n",
       "    <g style=\"fill:blue\" id=\"1-VVD\">\n",
       "        <title>VVD</title>\n",
       "        <circle cx=\"53.11\" cy=\"74.10\" r=\"7.78\"/>\n",
       "        <circle cx=\"84.75\" cy=\"96.93\" r=\"7.78\"/>\n",
       "        <circle cx=\"116.58\" cy=\"119.72\" r=\"7.78\"/>\n",
       "        <circle cx=\"80.38\" cy=\"73.50\" r=\"7.78\"/>\n",
       "        <circle cx=\"107.90\" cy=\"101.02\" r=\"7.78\"/>\n",
       "        <circle cx=\"71.49\" cy=\"55.33\" r=\"7.78\"/>\n",
       "        <circle cx=\"104.50\" cy=\"78.64\" r=\"7.78\"/>\n",
       "        <circle cx=\"102.04\" cy=\"56.76\" r=\"7.78\"/>\n",
       "        <circle cx=\"92.62\" cy=\"39.71\" r=\"7.78\"/>\n",
       "        <circle cx=\"129.36\" cy=\"85.80\" r=\"7.78\"/>\n",
       "    </g>\n",
       "    <g style=\"fill:#b7381a\" id=\"2-PVV\">\n",
       "        <title>PVV</title>\n",
       "        <circle cx=\"139.09\" cy=\"102.65\" r=\"7.78\"/>\n",
       "        <circle cx=\"127.68\" cy=\"64.95\" r=\"7.78\"/>\n",
       "        <circle cx=\"115.96\" cy=\"27.63\" r=\"7.78\"/>\n",
       "        <circle cx=\"126.45\" cy=\"44.36\" r=\"7.78\"/>\n",
       "    </g>\n",
       "    <g style=\"fill:red\" id=\"3-PvdA-GL\">\n",
       "        <title>PvdA-GL</title>\n",
       "        <circle cx=\"153.89\" cy=\"76.29\" r=\"7.78\"/>\n",
       "        <circle cx=\"140.92\" cy=\"19.41\" r=\"7.78\"/>\n",
       "        <circle cx=\"153.23\" cy=\"56.48\" r=\"7.78\"/>\n",
       "        <circle cx=\"152.74\" cy=\"36.74\" r=\"7.78\"/>\n",
       "        <circle cx=\"165.87\" cy=\"93.65\" r=\"7.78\"/>\n",
       "        <circle cx=\"166.86\" cy=\"15.25\" r=\"7.78\"/>\n",
       "        <circle cx=\"180.00\" cy=\"73.06\" r=\"7.78\"/>\n",
       "        <circle cx=\"180.00\" cy=\"53.61\" r=\"7.78\"/>\n",
       "        <circle cx=\"180.00\" cy=\"34.17\" r=\"7.78\"/>\n",
       "        <circle cx=\"193.14\" cy=\"15.25\" r=\"7.78\"/>\n",
       "        <circle cx=\"194.13\" cy=\"93.65\" r=\"7.78\"/>\n",
       "        <circle cx=\"207.26\" cy=\"36.74\" r=\"7.78\"/>\n",
       "        <circle cx=\"206.77\" cy=\"56.48\" r=\"7.78\"/>\n",
       "        <circle cx=\"219.08\" cy=\"19.41\" r=\"7.78\"/>\n",
       "    </g>\n",
       "    <g style=\"fill:black\" id=\"4-CDA\">\n",
       "        <title>CDA</title>\n",
       "        <circle cx=\"206.11\" cy=\"76.29\" r=\"7.78\"/>\n",
       "        <circle cx=\"233.55\" cy=\"44.36\" r=\"7.78\"/>\n",
       "        <circle cx=\"244.04\" cy=\"27.63\" r=\"7.78\"/>\n",
       "        <circle cx=\"232.32\" cy=\"64.95\" r=\"7.78\"/>\n",
       "        <circle cx=\"220.91\" cy=\"102.65\" r=\"7.78\"/>\n",
       "        <circle cx=\"230.64\" cy=\"85.80\" r=\"7.78\"/>\n",
       "    </g>\n",
       "    <g style=\"fill:green\" id=\"5-D66\">\n",
       "        <title>D66</title>\n",
       "        <circle cx=\"267.38\" cy=\"39.71\" r=\"7.78\"/>\n",
       "        <circle cx=\"257.96\" cy=\"56.76\" r=\"7.78\"/>\n",
       "        <circle cx=\"255.50\" cy=\"78.64\" r=\"7.78\"/>\n",
       "        <circle cx=\"288.51\" cy=\"55.33\" r=\"7.78\"/>\n",
       "        <circle cx=\"252.10\" cy=\"101.02\" r=\"7.78\"/>\n",
       "    </g>\n",
       "    <g style=\"fill:#f5aeb0\" id=\"6-SP\">\n",
       "        <title>SP</title>\n",
       "        <circle cx=\"279.62\" cy=\"73.50\" r=\"7.78\"/>\n",
       "        <circle cx=\"243.42\" cy=\"119.72\" r=\"7.78\"/>\n",
       "        <circle cx=\"275.25\" cy=\"96.93\" r=\"7.78\"/>\n",
       "    </g>\n",
       "    <g style=\"fill:#c41e0c\" id=\"7-PvdD\">\n",
       "        <title>PvdD</title>\n",
       "        <circle cx=\"306.89\" cy=\"74.10\" r=\"7.78\"/>\n",
       "        <circle cx=\"297.77\" cy=\"94.00\" r=\"7.78\"/>\n",
       "        <circle cx=\"269.20\" cy=\"121.01\" r=\"7.78\"/>\n",
       "    </g>\n",
       "    <g style=\"fill:#78eb30\" id=\"8-JA21\">\n",
       "        <title>JA21</title>\n",
       "        <circle cx=\"322.07\" cy=\"95.55\" r=\"7.78\"/>\n",
       "        <circle cx=\"290.69\" cy=\"118.99\" r=\"7.78\"/>\n",
       "        <circle cx=\"311.77\" cy=\"117.52\" r=\"7.78\"/>\n",
       "    </g>\n",
       "    <g style=\"fill:#875d76\" id=\"9-CU\">\n",
       "        <title>CU</title>\n",
       "        <circle cx=\"259.33\" cy=\"143.07\" r=\"7.78\"/>\n",
       "        <circle cx=\"333.66\" cy=\"119.13\" r=\"7.78\"/>\n",
       "        <circle cx=\"280.91\" cy=\"144.57\" r=\"7.78\"/>\n",
       "    </g>\n",
       "    <g style=\"fill:orange\" id=\"10-SGP\">\n",
       "        <title>SGP</title>\n",
       "        <circle cx=\"301.10\" cy=\"143.81\" r=\"7.78\"/>\n",
       "        <circle cx=\"321.13\" cy=\"143.25\" r=\"7.78\"/>\n",
       "    </g>\n",
       "    <g style=\"fill:purple\" id=\"11-Volt\">\n",
       "        <title>Volt</title>\n",
       "        <circle cx=\"341.37\" cy=\"144.25\" r=\"7.78\"/>\n",
       "        <circle cx=\"266.96\" cy=\"170.28\" r=\"7.78\"/>\n",
       "    </g>\n",
       "    <g style=\"fill:#3c4989\" id=\"12-FvD\">\n",
       "        <title>FvD</title>\n",
       "        <circle cx=\"286.50\" cy=\"170.28\" r=\"7.78\"/>\n",
       "        <circle cx=\"306.01\" cy=\"170.28\" r=\"7.78\"/>\n",
       "    </g>\n",
       "    <g style=\"fill:#e07cb5\" id=\"13-50PLUS\">\n",
       "        <title>50PLUS</title>\n",
       "        <circle cx=\"325.51\" cy=\"170.28\" r=\"7.78\"/>\n",
       "    </g>\n",
       "    <g style=\"fill:#c32eae\" id=\"14-OSF-OPNL\">\n",
       "        <title>OSF/OPNL</title>\n",
       "        <circle cx=\"344.99\" cy=\"170.28\" r=\"7.78\"/>\n",
       "    </g>\n",
       "</svg>"
      ],
      "text/plain": [
       "<IPython.core.display.SVG object>"
      ]
     },
     "metadata": {},
     "output_type": "display_data"
    }
   ],
   "source": [
    "eerste_kamer_seats = [\n",
    "    [\"BBB\", 16],\n",
    "    [\"VVD\", 10],\n",
    "    [\"PVV\", 4],\n",
    "    [\"PvdA-GL\", 14],\n",
    "    [\"CDA\", 6],\n",
    "    [\"D66\", 5],\n",
    "    [\"SP\", 3],\n",
    "    [\"PvdD\", 3],\n",
    "    [\"JA21\", 3],\n",
    "    [\"CU\", 3],\n",
    "    [\"SGP\", 2],\n",
    "    [\"Volt\", 2],\n",
    "    [\"FvD\", 2],\n",
    "    [\"50PLUS\", 1],\n",
    "    [\"OSF/OPNL\", 1],\n",
    "]\n"
   ]
  },
  {
   "cell_type": "code",
   "execution_count": 13,
   "id": "19b55687-1a7e-4e1c-ab28-52d76b0b189c",
   "metadata": {},
   "outputs": [
    {
     "name": "stdout",
     "output_type": "stream",
     "text": [
      "Tweede Kamer\n"
     ]
    },
    {
     "data": {
      "image/svg+xml": [
       "<svg xmlns:svg=\"http://www.w3.org/2000/svg\" xmlns=\"http://www.w3.org/2000/svg\" version=\"1.1\" width=\"360.0\" height=\"185.0\">\n",
       "    <!-- Created with parliamentarch (https://github.com/Gouvernathor/parliamentarch/) -->\n",
       "    <text x=\"180.0\" y=\"175.0\" style=\"font-size:36px;font-weight:bold;text-align:center;text-anchor:middle;font-family:sans-serif\">150</text>\n",
       "    <g style=\"fill:#b7381a\" id=\"0-PVV\">\n",
       "        <title>PVV</title>\n",
       "        <circle cx=\"11.87\" cy=\"173.27\" r=\"5.38\"/>\n",
       "        <circle cx=\"25.34\" cy=\"173.27\" r=\"5.38\"/>\n",
       "        <circle cx=\"38.81\" cy=\"173.27\" r=\"5.38\"/>\n",
       "        <circle cx=\"52.29\" cy=\"173.27\" r=\"5.38\"/>\n",
       "        <circle cx=\"65.78\" cy=\"173.27\" r=\"5.38\"/>\n",
       "        <circle cx=\"79.26\" cy=\"173.27\" r=\"5.38\"/>\n",
       "        <circle cx=\"92.76\" cy=\"173.27\" r=\"5.38\"/>\n",
       "        <circle cx=\"13.60\" cy=\"154.96\" r=\"5.38\"/>\n",
       "        <circle cx=\"27.31\" cy=\"154.47\" r=\"5.38\"/>\n",
       "        <circle cx=\"41.09\" cy=\"153.85\" r=\"5.38\"/>\n",
       "        <circle cx=\"54.78\" cy=\"154.03\" r=\"5.38\"/>\n",
       "        <circle cx=\"68.51\" cy=\"154.27\" r=\"5.38\"/>\n",
       "        <circle cx=\"82.30\" cy=\"154.56\" r=\"5.38\"/>\n",
       "        <circle cx=\"17.33\" cy=\"136.95\" r=\"5.38\"/>\n",
       "        <circle cx=\"31.56\" cy=\"136.05\" r=\"5.38\"/>\n",
       "        <circle cx=\"96.16\" cy=\"154.95\" r=\"5.38\"/>\n",
       "        <circle cx=\"46.03\" cy=\"134.92\" r=\"5.38\"/>\n",
       "        <circle cx=\"60.15\" cy=\"135.39\" r=\"5.38\"/>\n",
       "        <circle cx=\"23.00\" cy=\"119.46\" r=\"5.38\"/>\n",
       "        <circle cx=\"74.38\" cy=\"135.99\" r=\"5.38\"/>\n",
       "        <circle cx=\"38.03\" cy=\"118.29\" r=\"5.38\"/>\n",
       "        <circle cx=\"88.77\" cy=\"136.75\" r=\"5.38\"/>\n",
       "        <circle cx=\"53.54\" cy=\"116.86\" r=\"5.38\"/>\n",
       "        <circle cx=\"30.54\" cy=\"102.69\" r=\"5.38\"/>\n",
       "        <circle cx=\"103.37\" cy=\"137.76\" r=\"5.38\"/>\n",
       "        <circle cx=\"68.27\" cy=\"117.78\" r=\"5.38\"/>\n",
       "        <circle cx=\"46.61\" cy=\"101.44\" r=\"5.38\"/>\n",
       "        <circle cx=\"83.23\" cy=\"118.95\" r=\"5.38\"/>\n",
       "        <circle cx=\"39.87\" cy=\"86.84\" r=\"5.38\"/>\n",
       "        <circle cx=\"63.46\" cy=\"100.01\" r=\"5.38\"/>\n",
       "        <circle cx=\"98.46\" cy=\"120.46\" r=\"5.38\"/>\n",
       "        <circle cx=\"57.17\" cy=\"85.77\" r=\"5.38\"/>\n",
       "        <circle cx=\"78.97\" cy=\"101.60\" r=\"5.38\"/>\n",
       "        <circle cx=\"50.87\" cy=\"72.11\" r=\"5.38\"/>\n",
       "        <circle cx=\"114.06\" cy=\"122.49\" r=\"5.38\"/>\n",
       "        <circle cx=\"94.80\" cy=\"103.62\" r=\"5.38\"/>\n",
       "        <circle cx=\"75.62\" cy=\"84.69\" r=\"5.38\"/>\n",
       "    </g>\n",
       "    <g style=\"fill:blue\" id=\"1-VVD\">\n",
       "        <title>VVD</title>\n",
       "        <circle cx=\"69.58\" cy=\"71.50\" r=\"5.38\"/>\n",
       "        <circle cx=\"63.42\" cy=\"58.66\" r=\"5.38\"/>\n",
       "        <circle cx=\"91.98\" cy=\"87.22\" r=\"5.38\"/>\n",
       "        <circle cx=\"111.03\" cy=\"106.27\" r=\"5.38\"/>\n",
       "        <circle cx=\"89.77\" cy=\"71.20\" r=\"5.38\"/>\n",
       "        <circle cx=\"83.62\" cy=\"58.85\" r=\"5.38\"/>\n",
       "        <circle cx=\"108.77\" cy=\"90.45\" r=\"5.38\"/>\n",
       "        <circle cx=\"77.36\" cy=\"46.66\" r=\"5.38\"/>\n",
       "        <circle cx=\"127.73\" cy=\"109.83\" r=\"5.38\"/>\n",
       "        <circle cx=\"107.03\" cy=\"74.98\" r=\"5.38\"/>\n",
       "        <circle cx=\"126.03\" cy=\"94.68\" r=\"5.38\"/>\n",
       "        <circle cx=\"105.65\" cy=\"59.79\" r=\"5.38\"/>\n",
       "        <circle cx=\"99.11\" cy=\"48.01\" r=\"5.38\"/>\n",
       "        <circle cx=\"92.52\" cy=\"36.26\" r=\"5.38\"/>\n",
       "        <circle cx=\"124.74\" cy=\"79.80\" r=\"5.38\"/>\n",
       "        <circle cx=\"123.75\" cy=\"65.15\" r=\"5.38\"/>\n",
       "        <circle cx=\"108.73\" cy=\"27.57\" r=\"5.38\"/>\n",
       "        <circle cx=\"115.80\" cy=\"39.13\" r=\"5.38\"/>\n",
       "        <circle cx=\"143.78\" cy=\"100.35\" r=\"5.38\"/>\n",
       "        <circle cx=\"122.96\" cy=\"50.68\" r=\"5.38\"/>\n",
       "        <circle cx=\"142.92\" cy=\"86.09\" r=\"5.38\"/>\n",
       "        <circle cx=\"142.27\" cy=\"71.97\" r=\"5.38\"/>\n",
       "        <circle cx=\"125.79\" cy=\"20.70\" r=\"5.38\"/>\n",
       "        <circle cx=\"133.44\" cy=\"32.36\" r=\"5.38\"/>\n",
       "    </g>\n",
       "    <g style=\"fill:#da589b\" id=\"2-NSC\">\n",
       "        <title>NSC</title>\n",
       "        <circle cx=\"141.76\" cy=\"57.97\" r=\"5.38\"/>\n",
       "        <circle cx=\"141.35\" cy=\"44.04\" r=\"5.38\"/>\n",
       "        <circle cx=\"143.49\" cy=\"15.74\" r=\"5.38\"/>\n",
       "        <circle cx=\"161.47\" cy=\"94.48\" r=\"5.38\"/>\n",
       "        <circle cx=\"161.13\" cy=\"80.82\" r=\"5.38\"/>\n",
       "        <circle cx=\"151.79\" cy=\"27.79\" r=\"5.38\"/>\n",
       "        <circle cx=\"160.87\" cy=\"67.19\" r=\"5.38\"/>\n",
       "        <circle cx=\"160.66\" cy=\"53.59\" r=\"5.38\"/>\n",
       "        <circle cx=\"160.49\" cy=\"40.01\" r=\"5.38\"/>\n",
       "        <circle cx=\"161.64\" cy=\"12.74\" r=\"5.38\"/>\n",
       "        <circle cx=\"170.55\" cy=\"25.48\" r=\"5.38\"/>\n",
       "        <circle cx=\"180.00\" cy=\"92.50\" r=\"5.38\"/>\n",
       "        <circle cx=\"180.00\" cy=\"79.04\" r=\"5.38\"/>\n",
       "        <circle cx=\"180.00\" cy=\"65.58\" r=\"5.38\"/>\n",
       "        <circle cx=\"180.00\" cy=\"52.12\" r=\"5.38\"/>\n",
       "        <circle cx=\"180.00\" cy=\"38.65\" r=\"5.38\"/>\n",
       "        <circle cx=\"180.00\" cy=\"11.73\" r=\"5.38\"/>\n",
       "        <circle cx=\"189.45\" cy=\"25.48\" r=\"5.38\"/>\n",
       "        <circle cx=\"198.36\" cy=\"12.74\" r=\"5.38\"/>\n",
       "        <circle cx=\"199.51\" cy=\"40.01\" r=\"5.38\"/>\n",
       "    </g>\n",
       "    <g style=\"fill:#dcdb70\" id=\"3-BBB\">\n",
       "        <title>BBB</title>\n",
       "        <circle cx=\"199.34\" cy=\"53.59\" r=\"5.38\"/>\n",
       "        <circle cx=\"199.13\" cy=\"67.19\" r=\"5.38\"/>\n",
       "        <circle cx=\"208.21\" cy=\"27.79\" r=\"5.38\"/>\n",
       "        <circle cx=\"198.87\" cy=\"80.82\" r=\"5.38\"/>\n",
       "        <circle cx=\"198.53\" cy=\"94.48\" r=\"5.38\"/>\n",
       "        <circle cx=\"216.51\" cy=\"15.74\" r=\"5.38\"/>\n",
       "        <circle cx=\"218.65\" cy=\"44.04\" r=\"5.38\"/>\n",
       "    </g>\n",
       "    <g style=\"fill:red\" id=\"4-PvdA-GL\">\n",
       "        <title>PvdA-GL</title>\n",
       "        <circle cx=\"218.24\" cy=\"57.97\" r=\"5.38\"/>\n",
       "        <circle cx=\"226.56\" cy=\"32.36\" r=\"5.38\"/>\n",
       "        <circle cx=\"234.21\" cy=\"20.70\" r=\"5.38\"/>\n",
       "        <circle cx=\"217.73\" cy=\"71.97\" r=\"5.38\"/>\n",
       "        <circle cx=\"217.08\" cy=\"86.09\" r=\"5.38\"/>\n",
       "        <circle cx=\"237.04\" cy=\"50.68\" r=\"5.38\"/>\n",
       "        <circle cx=\"216.22\" cy=\"100.35\" r=\"5.38\"/>\n",
       "        <circle cx=\"244.20\" cy=\"39.13\" r=\"5.38\"/>\n",
       "        <circle cx=\"251.27\" cy=\"27.57\" r=\"5.38\"/>\n",
       "        <circle cx=\"236.25\" cy=\"65.15\" r=\"5.38\"/>\n",
       "        <circle cx=\"235.26\" cy=\"79.80\" r=\"5.38\"/>\n",
       "        <circle cx=\"267.48\" cy=\"36.26\" r=\"5.38\"/>\n",
       "        <circle cx=\"260.89\" cy=\"48.01\" r=\"5.38\"/>\n",
       "        <circle cx=\"254.35\" cy=\"59.79\" r=\"5.38\"/>\n",
       "        <circle cx=\"233.97\" cy=\"94.68\" r=\"5.38\"/>\n",
       "        <circle cx=\"252.97\" cy=\"74.98\" r=\"5.38\"/>\n",
       "        <circle cx=\"232.27\" cy=\"109.83\" r=\"5.38\"/>\n",
       "        <circle cx=\"282.64\" cy=\"46.66\" r=\"5.38\"/>\n",
       "        <circle cx=\"251.23\" cy=\"90.45\" r=\"5.38\"/>\n",
       "        <circle cx=\"276.38\" cy=\"58.85\" r=\"5.38\"/>\n",
       "        <circle cx=\"270.23\" cy=\"71.20\" r=\"5.38\"/>\n",
       "        <circle cx=\"248.97\" cy=\"106.27\" r=\"5.38\"/>\n",
       "        <circle cx=\"268.02\" cy=\"87.22\" r=\"5.38\"/>\n",
       "        <circle cx=\"296.58\" cy=\"58.66\" r=\"5.38\"/>\n",
       "        <circle cx=\"290.42\" cy=\"71.50\" r=\"5.38\"/>\n",
       "    </g>\n",
       "    <g style=\"fill:green\" id=\"5-D66\">\n",
       "        <title>D66</title>\n",
       "        <circle cx=\"284.38\" cy=\"84.69\" r=\"5.38\"/>\n",
       "        <circle cx=\"265.20\" cy=\"103.62\" r=\"5.38\"/>\n",
       "        <circle cx=\"245.94\" cy=\"122.49\" r=\"5.38\"/>\n",
       "        <circle cx=\"309.13\" cy=\"72.11\" r=\"5.38\"/>\n",
       "        <circle cx=\"281.03\" cy=\"101.60\" r=\"5.38\"/>\n",
       "        <circle cx=\"302.83\" cy=\"85.77\" r=\"5.38\"/>\n",
       "        <circle cx=\"261.54\" cy=\"120.46\" r=\"5.38\"/>\n",
       "        <circle cx=\"296.54\" cy=\"100.01\" r=\"5.38\"/>\n",
       "        <circle cx=\"320.13\" cy=\"86.84\" r=\"5.38\"/>\n",
       "    </g>\n",
       "    <g style=\"fill:black\" id=\"6-CDA\">\n",
       "        <title>CDA</title>\n",
       "        <circle cx=\"276.77\" cy=\"118.95\" r=\"5.38\"/>\n",
       "        <circle cx=\"313.39\" cy=\"101.44\" r=\"5.38\"/>\n",
       "        <circle cx=\"291.73\" cy=\"117.78\" r=\"5.38\"/>\n",
       "        <circle cx=\"256.63\" cy=\"137.76\" r=\"5.38\"/>\n",
       "        <circle cx=\"329.46\" cy=\"102.69\" r=\"5.38\"/>\n",
       "    </g>\n",
       "    <g style=\"fill:#f5aeb0\" id=\"7-SP\">\n",
       "        <title>SP</title>\n",
       "        <circle cx=\"306.46\" cy=\"116.86\" r=\"5.38\"/>\n",
       "        <circle cx=\"271.23\" cy=\"136.75\" r=\"5.38\"/>\n",
       "        <circle cx=\"321.97\" cy=\"118.29\" r=\"5.38\"/>\n",
       "        <circle cx=\"285.62\" cy=\"135.99\" r=\"5.38\"/>\n",
       "        <circle cx=\"337.00\" cy=\"119.46\" r=\"5.38\"/>\n",
       "    </g>\n",
       "    <g style=\"fill:#3c4989\" id=\"8-FvD\">\n",
       "        <title>FvD</title>\n",
       "        <circle cx=\"299.85\" cy=\"135.39\" r=\"5.38\"/>\n",
       "        <circle cx=\"313.97\" cy=\"134.92\" r=\"5.38\"/>\n",
       "        <circle cx=\"263.84\" cy=\"154.95\" r=\"5.38\"/>\n",
       "    </g>\n",
       "    <g style=\"fill:cyan\" id=\"9-DENK\">\n",
       "        <title>DENK</title>\n",
       "        <circle cx=\"328.44\" cy=\"136.05\" r=\"5.38\"/>\n",
       "        <circle cx=\"342.67\" cy=\"136.95\" r=\"5.38\"/>\n",
       "        <circle cx=\"277.70\" cy=\"154.56\" r=\"5.38\"/>\n",
       "    </g>\n",
       "    <g style=\"fill:#c41e0c\" id=\"10-PvdD\">\n",
       "        <title>PvdD</title>\n",
       "        <circle cx=\"291.49\" cy=\"154.27\" r=\"5.38\"/>\n",
       "        <circle cx=\"305.22\" cy=\"154.03\" r=\"5.38\"/>\n",
       "        <circle cx=\"318.91\" cy=\"153.85\" r=\"5.38\"/>\n",
       "    </g>\n",
       "    <g style=\"fill:orange\" id=\"11-SGP\">\n",
       "        <title>SGP</title>\n",
       "        <circle cx=\"332.69\" cy=\"154.47\" r=\"5.38\"/>\n",
       "        <circle cx=\"346.40\" cy=\"154.96\" r=\"5.38\"/>\n",
       "        <circle cx=\"267.24\" cy=\"173.27\" r=\"5.38\"/>\n",
       "    </g>\n",
       "    <g style=\"fill:#875d76\" id=\"12-CU\">\n",
       "        <title>CU</title>\n",
       "        <circle cx=\"280.74\" cy=\"173.27\" r=\"5.38\"/>\n",
       "        <circle cx=\"294.22\" cy=\"173.27\" r=\"5.38\"/>\n",
       "        <circle cx=\"307.71\" cy=\"173.27\" r=\"5.38\"/>\n",
       "    </g>\n",
       "    <g style=\"fill:purple\" id=\"13-Volt\">\n",
       "        <title>Volt</title>\n",
       "        <circle cx=\"321.19\" cy=\"173.27\" r=\"5.38\"/>\n",
       "        <circle cx=\"334.66\" cy=\"173.27\" r=\"5.38\"/>\n",
       "    </g>\n",
       "    <g style=\"fill:#78eb30\" id=\"14-JA21\">\n",
       "        <title>JA21</title>\n",
       "        <circle cx=\"348.13\" cy=\"173.27\" r=\"5.38\"/>\n",
       "    </g>\n",
       "    <g style=\"fill:#e07cb5\" id=\"15-50PLUS\">\n",
       "        <title>50PLUS</title>\n",
       "    </g>\n",
       "</svg>"
      ],
      "text/plain": [
       "<IPython.core.display.SVG object>"
      ]
     },
     "metadata": {},
     "output_type": "display_data"
    },
    {
     "name": "stdout",
     "output_type": "stream",
     "text": [
      "Eerste Kamer\n"
     ]
    },
    {
     "data": {
      "image/svg+xml": [
       "<svg xmlns:svg=\"http://www.w3.org/2000/svg\" xmlns=\"http://www.w3.org/2000/svg\" version=\"1.1\" width=\"360.0\" height=\"185.0\">\n",
       "    <!-- Created with parliamentarch (https://github.com/Gouvernathor/parliamentarch/) -->\n",
       "    <text x=\"180.0\" y=\"175.0\" style=\"font-size:36px;font-weight:bold;text-align:center;text-anchor:middle;font-family:sans-serif\">75</text>\n",
       "    <g style=\"fill:#dcdb70\" id=\"0-BBB\">\n",
       "        <title>BBB</title>\n",
       "        <circle cx=\"15.01\" cy=\"170.28\" r=\"7.78\"/>\n",
       "        <circle cx=\"34.49\" cy=\"170.28\" r=\"7.78\"/>\n",
       "        <circle cx=\"53.99\" cy=\"170.28\" r=\"7.78\"/>\n",
       "        <circle cx=\"73.50\" cy=\"170.28\" r=\"7.78\"/>\n",
       "        <circle cx=\"93.04\" cy=\"170.28\" r=\"7.78\"/>\n",
       "        <circle cx=\"18.63\" cy=\"144.25\" r=\"7.78\"/>\n",
       "        <circle cx=\"38.87\" cy=\"143.25\" r=\"7.78\"/>\n",
       "        <circle cx=\"58.90\" cy=\"143.81\" r=\"7.78\"/>\n",
       "        <circle cx=\"79.09\" cy=\"144.57\" r=\"7.78\"/>\n",
       "        <circle cx=\"26.34\" cy=\"119.13\" r=\"7.78\"/>\n",
       "        <circle cx=\"100.67\" cy=\"143.07\" r=\"7.78\"/>\n",
       "        <circle cx=\"48.23\" cy=\"117.52\" r=\"7.78\"/>\n",
       "        <circle cx=\"69.31\" cy=\"118.99\" r=\"7.78\"/>\n",
       "        <circle cx=\"37.93\" cy=\"95.55\" r=\"7.78\"/>\n",
       "        <circle cx=\"90.80\" cy=\"121.01\" r=\"7.78\"/>\n",
       "        <circle cx=\"62.23\" cy=\"94.00\" r=\"7.78\"/>\n",
       "    </g>\n",
       "    <g style=\"fill:blue\" id=\"1-VVD\">\n",
       "        <title>VVD</title>\n",
       "        <circle cx=\"53.11\" cy=\"74.10\" r=\"7.78\"/>\n",
       "        <circle cx=\"84.75\" cy=\"96.93\" r=\"7.78\"/>\n",
       "        <circle cx=\"116.58\" cy=\"119.72\" r=\"7.78\"/>\n",
       "        <circle cx=\"80.38\" cy=\"73.50\" r=\"7.78\"/>\n",
       "        <circle cx=\"107.90\" cy=\"101.02\" r=\"7.78\"/>\n",
       "        <circle cx=\"71.49\" cy=\"55.33\" r=\"7.78\"/>\n",
       "        <circle cx=\"104.50\" cy=\"78.64\" r=\"7.78\"/>\n",
       "        <circle cx=\"102.04\" cy=\"56.76\" r=\"7.78\"/>\n",
       "        <circle cx=\"92.62\" cy=\"39.71\" r=\"7.78\"/>\n",
       "        <circle cx=\"129.36\" cy=\"85.80\" r=\"7.78\"/>\n",
       "    </g>\n",
       "    <g style=\"fill:#b7381a\" id=\"2-PVV\">\n",
       "        <title>PVV</title>\n",
       "        <circle cx=\"139.09\" cy=\"102.65\" r=\"7.78\"/>\n",
       "        <circle cx=\"127.68\" cy=\"64.95\" r=\"7.78\"/>\n",
       "        <circle cx=\"115.96\" cy=\"27.63\" r=\"7.78\"/>\n",
       "        <circle cx=\"126.45\" cy=\"44.36\" r=\"7.78\"/>\n",
       "    </g>\n",
       "    <g style=\"fill:red\" id=\"3-PvdA-GL\">\n",
       "        <title>PvdA-GL</title>\n",
       "        <circle cx=\"153.89\" cy=\"76.29\" r=\"7.78\"/>\n",
       "        <circle cx=\"140.92\" cy=\"19.41\" r=\"7.78\"/>\n",
       "        <circle cx=\"153.23\" cy=\"56.48\" r=\"7.78\"/>\n",
       "        <circle cx=\"152.74\" cy=\"36.74\" r=\"7.78\"/>\n",
       "        <circle cx=\"165.87\" cy=\"93.65\" r=\"7.78\"/>\n",
       "        <circle cx=\"166.86\" cy=\"15.25\" r=\"7.78\"/>\n",
       "        <circle cx=\"180.00\" cy=\"73.06\" r=\"7.78\"/>\n",
       "        <circle cx=\"180.00\" cy=\"53.61\" r=\"7.78\"/>\n",
       "        <circle cx=\"180.00\" cy=\"34.17\" r=\"7.78\"/>\n",
       "        <circle cx=\"193.14\" cy=\"15.25\" r=\"7.78\"/>\n",
       "        <circle cx=\"194.13\" cy=\"93.65\" r=\"7.78\"/>\n",
       "        <circle cx=\"207.26\" cy=\"36.74\" r=\"7.78\"/>\n",
       "        <circle cx=\"206.77\" cy=\"56.48\" r=\"7.78\"/>\n",
       "        <circle cx=\"219.08\" cy=\"19.41\" r=\"7.78\"/>\n",
       "    </g>\n",
       "    <g style=\"fill:black\" id=\"4-CDA\">\n",
       "        <title>CDA</title>\n",
       "        <circle cx=\"206.11\" cy=\"76.29\" r=\"7.78\"/>\n",
       "        <circle cx=\"233.55\" cy=\"44.36\" r=\"7.78\"/>\n",
       "        <circle cx=\"244.04\" cy=\"27.63\" r=\"7.78\"/>\n",
       "        <circle cx=\"232.32\" cy=\"64.95\" r=\"7.78\"/>\n",
       "        <circle cx=\"220.91\" cy=\"102.65\" r=\"7.78\"/>\n",
       "        <circle cx=\"230.64\" cy=\"85.80\" r=\"7.78\"/>\n",
       "    </g>\n",
       "    <g style=\"fill:green\" id=\"5-D66\">\n",
       "        <title>D66</title>\n",
       "        <circle cx=\"267.38\" cy=\"39.71\" r=\"7.78\"/>\n",
       "        <circle cx=\"257.96\" cy=\"56.76\" r=\"7.78\"/>\n",
       "        <circle cx=\"255.50\" cy=\"78.64\" r=\"7.78\"/>\n",
       "        <circle cx=\"288.51\" cy=\"55.33\" r=\"7.78\"/>\n",
       "        <circle cx=\"252.10\" cy=\"101.02\" r=\"7.78\"/>\n",
       "    </g>\n",
       "    <g style=\"fill:#f5aeb0\" id=\"6-SP\">\n",
       "        <title>SP</title>\n",
       "        <circle cx=\"279.62\" cy=\"73.50\" r=\"7.78\"/>\n",
       "        <circle cx=\"243.42\" cy=\"119.72\" r=\"7.78\"/>\n",
       "        <circle cx=\"275.25\" cy=\"96.93\" r=\"7.78\"/>\n",
       "    </g>\n",
       "    <g style=\"fill:#c41e0c\" id=\"7-PvdD\">\n",
       "        <title>PvdD</title>\n",
       "        <circle cx=\"306.89\" cy=\"74.10\" r=\"7.78\"/>\n",
       "        <circle cx=\"297.77\" cy=\"94.00\" r=\"7.78\"/>\n",
       "        <circle cx=\"269.20\" cy=\"121.01\" r=\"7.78\"/>\n",
       "    </g>\n",
       "    <g style=\"fill:#78eb30\" id=\"8-JA21\">\n",
       "        <title>JA21</title>\n",
       "        <circle cx=\"322.07\" cy=\"95.55\" r=\"7.78\"/>\n",
       "        <circle cx=\"290.69\" cy=\"118.99\" r=\"7.78\"/>\n",
       "        <circle cx=\"311.77\" cy=\"117.52\" r=\"7.78\"/>\n",
       "    </g>\n",
       "    <g style=\"fill:#875d76\" id=\"9-CU\">\n",
       "        <title>CU</title>\n",
       "        <circle cx=\"259.33\" cy=\"143.07\" r=\"7.78\"/>\n",
       "        <circle cx=\"333.66\" cy=\"119.13\" r=\"7.78\"/>\n",
       "        <circle cx=\"280.91\" cy=\"144.57\" r=\"7.78\"/>\n",
       "    </g>\n",
       "    <g style=\"fill:orange\" id=\"10-SGP\">\n",
       "        <title>SGP</title>\n",
       "        <circle cx=\"301.10\" cy=\"143.81\" r=\"7.78\"/>\n",
       "        <circle cx=\"321.13\" cy=\"143.25\" r=\"7.78\"/>\n",
       "    </g>\n",
       "    <g style=\"fill:purple\" id=\"11-Volt\">\n",
       "        <title>Volt</title>\n",
       "        <circle cx=\"341.37\" cy=\"144.25\" r=\"7.78\"/>\n",
       "        <circle cx=\"266.96\" cy=\"170.28\" r=\"7.78\"/>\n",
       "    </g>\n",
       "    <g style=\"fill:#3c4989\" id=\"12-FvD\">\n",
       "        <title>FvD</title>\n",
       "        <circle cx=\"286.50\" cy=\"170.28\" r=\"7.78\"/>\n",
       "        <circle cx=\"306.01\" cy=\"170.28\" r=\"7.78\"/>\n",
       "    </g>\n",
       "    <g style=\"fill:#e07cb5\" id=\"13-50PLUS\">\n",
       "        <title>50PLUS</title>\n",
       "        <circle cx=\"325.51\" cy=\"170.28\" r=\"7.78\"/>\n",
       "    </g>\n",
       "    <g style=\"fill:#c32eae\" id=\"14-OSF-OPNL\">\n",
       "        <title>OSF/OPNL</title>\n",
       "        <circle cx=\"344.99\" cy=\"170.28\" r=\"7.78\"/>\n",
       "    </g>\n",
       "</svg>"
      ],
      "text/plain": [
       "<IPython.core.display.SVG object>"
      ]
     },
     "metadata": {},
     "output_type": "display_data"
    }
   ],
   "source": [
    "\n",
    "print(\"Eerste Kamer\")\n",
    "display_seats(eerste_kamer_seats)"
   ]
  },
  {
   "cell_type": "code",
   "execution_count": null,
   "id": "ef8e1e6b-6025-4569-bcc5-6c4adb308227",
   "metadata": {},
   "outputs": [],
   "source": []
  }
 ],
 "metadata": {
  "kernelspec": {
   "display_name": "project",
   "language": "python",
   "name": "project"
  },
  "language_info": {
   "codemirror_mode": {
    "name": "ipython",
    "version": 3
   },
   "file_extension": ".py",
   "mimetype": "text/x-python",
   "name": "python",
   "nbconvert_exporter": "python",
   "pygments_lexer": "ipython3",
   "version": "3.13.5"
  }
 },
 "nbformat": 4,
 "nbformat_minor": 5
}
